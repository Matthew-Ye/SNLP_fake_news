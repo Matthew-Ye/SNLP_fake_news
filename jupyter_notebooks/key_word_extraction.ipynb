{
 "cells": [
  {
   "cell_type": "code",
   "execution_count": 1,
   "metadata": {},
   "outputs": [
    {
     "output_type": "stream",
     "name": "stderr",
     "text": "[nltk_data] Downloading package stopwords to\n[nltk_data]     /Users/zhangjun/nltk_data...\n[nltk_data]   Package stopwords is already up-to-date!\n[nltk_data] Downloading package averaged_perceptron_tagger to\n[nltk_data]     /Users/zhangjun/nltk_data...\n[nltk_data]   Package averaged_perceptron_tagger is already up-to-\n[nltk_data]       date!\n"
    }
   ],
   "source": [
    "from tqdm import tqdm\n",
    "from tqdm._tqdm_notebook import tqdm_notebook\n",
    "tqdm_notebook.pandas()\n",
    "import numpy as np\n",
    "from sklearn.feature_extraction.text import TfidfTransformer\n",
    "from sklearn.feature_extraction.text import CountVectorizer\n",
    "import nltk\n",
    "from nltk.corpus import stopwords\n",
    "\n",
    "nltk.download('stopwords')\n",
    "nltk.download('averaged_perceptron_tagger')\n",
    "from nltk.tokenize import word_tokenize\n",
    "stopWords = set(stopwords.words('english'))\n"
   ]
  },
  {
   "cell_type": "code",
   "execution_count": 2,
   "metadata": {},
   "outputs": [],
   "source": [
    "# data preprocessing\n",
    "def dataPrepos(text,stopkey = stopWords):\n",
    "    l = []\n",
    "    pos = {'JJ', 'NN','VB', 'PRP', 'WDT', 'WP', 'WRB', 'NNP', 'NNPS', 'VBG', 'VBD', 'VBN', 'VBP', 'VBZ', 'PRP', 'RB'} \n",
    "    text_tokens = word_tokenize(text)\n",
    "#     print(text_tokens)\n",
    "    tags = nltk.pos_tag(text_tokens)\n",
    "#     print(tags)\n",
    "    for i in range(len(text_tokens)):\n",
    "        if text_tokens[i] not in stopkey and tags[i][1] in pos:\n",
    "            l.append(text_tokens[i])\n",
    "    return l\n",
    "# dataPrepos(text)"
   ]
  },
  {
   "cell_type": "code",
   "execution_count": 3,
   "metadata": {},
   "outputs": [],
   "source": [
    "import pandas as pd\n",
    "from sklearn.model_selection import train_test_split\n",
    "\n",
    "# Loda datasets\n",
    "train_bodies = pd.read_csv('../fnc-1/train_bodies.csv') # 1683 bodies \n",
    "train_stances = pd.read_csv('../fnc-1/train_stances.csv') # 49972 headlines and stances \n",
    "competition_test_stances = pd.read_csv('../fnc-1/competition_test_stances.csv') # 25413 headlines and stances \n",
    "competition_test_bodies = pd.read_csv('../fnc-1/competition_test_bodies.csv') # 904 bodies\n",
    "# Join datasets\n",
    "training_set = train_stances.join(train_bodies.set_index('Body ID'), on='Body ID')\n",
    "competition_set = competition_test_stances.join(competition_test_bodies.set_index('Body ID'), on='Body ID')\n",
    "\n",
    "labels_int = ['agree', 'disagree', 'discuss', 'unrelated']\n",
    "\n",
    "training_set = pd.DataFrame(training_set.loc[:,['Headline', 'articleBody','Stance','Body ID']])\n",
    "training_set.columns = ['text_a', 'text_b', 'labels', 'Body ID']\n",
    "training_set[\"labels\"] = training_set[\"labels\"].apply(lambda x: labels_int.index(x))\n",
    "train_df, val_df = train_test_split(training_set, random_state = 0)\n",
    "competition_set = pd.DataFrame(competition_set.loc[:,['Headline', 'articleBody','Stance', 'Body ID']])\n",
    "competition_set.columns = ['text_a', 'text_b', 'labels', 'Body ID']\n",
    "competition_set[\"labels\"] = competition_set[\"labels\"].apply(lambda x: labels_int.index(x))\n",
    "labels_test = list(competition_set[\"labels\"])"
   ]
  },
  {
   "cell_type": "code",
   "execution_count": 4,
   "metadata": {},
   "outputs": [],
   "source": [
    "def getKeywords_tfidf_train(data,stopkey = stopWords,topK=20):\n",
    "    abstractList = data['articleBody']\n",
    "    corpus = []  \n",
    "    for text in tqdm(list(abstractList)):\n",
    "        text = dataPrepos(text,stopkey) # Text preprocessing\n",
    "        text = \" \".join(text)\n",
    "        corpus.append(text)\n",
    "    # 1，Construct token occurrence matrix \n",
    "    stop_words = ['in', 'of', 'at', 'a', 'the']\n",
    "    vectorizer = CountVectorizer(ngram_range=(1, 2), stop_words=stop_words, max_features = 500000)\n",
    "    X = vectorizer.fit_transform(corpus) \n",
    "\n",
    "    # 2，Calculate the Tf-idf weights\n",
    "    tfidf_transformer = TfidfTransformer()\n",
    "    tfidf = tfidf_transformer.fit_transform(X)\n",
    "\n",
    "    # 3，Get keywords in the bag-of-words model\n",
    "    words = vectorizer.get_feature_names()\n",
    "    # 4，Get tf-idf matrix. a[i][j] represents tf-idf weight of word j in the i-th document\n",
    "    weight = tfidf.toarray()\n",
    "\n",
    "    # 5\n",
    "    key_words_list = []\n",
    "    for (body, w) in zip(abstractList, weight):\n",
    "        loc = np.argsort(-w)\n",
    "        key_words =[]\n",
    "        for i in range(topK):\n",
    "            # Print the top k tokens according to the Tf-idf weights.\n",
    "#             print ('-{}: {} {}'.format(str(i + 1), words[loc[i]], w[loc[i]]))\n",
    "            key_words.append(words[loc[i]])\n",
    "#         print ('\\n')\n",
    "        key_words_list.append(key_words)\n",
    "    return key_words_list, vectorizer, tfidf_transformer"
   ]
  },
  {
   "cell_type": "code",
   "execution_count": 5,
   "metadata": {},
   "outputs": [],
   "source": [
    "def getKeywords_tfidf_test(data,vectorizer, tfidf_transformer, stopkey = stopWords,topK=20):\n",
    "    abstractList = data['articleBody']\n",
    "    corpus = []  \n",
    "    for text in tqdm(list(abstractList)):\n",
    "        text = dataPrepos(text,stopkey) # Text preprocessing\n",
    "        text = \" \".join(text)\n",
    "        corpus.append(text)\n",
    "    # 1，Construct token occurrence matrix \n",
    "    stop_words = ['in', 'of', 'at', 'a', 'the']\n",
    "#     vectorizer = CountVectorizer(ngram_range=(1, 2), stop_words=stop_words, max_features = 500000)\n",
    "    X = vectorizer.transform(corpus) \n",
    "\n",
    "    # 2，Calculate the Tf-idf weights\n",
    "#     tfidf_transformer = TfidfTransformer()\n",
    "    tfidf = tfidf_transformer.transform(X)\n",
    "\n",
    "    # 3，Get keywords in the bag-of-words model\n",
    "    words = vectorizer.get_feature_names()\n",
    "    # 4，Get tf-idf matrix. a[i][j] represents tf-idf weight of word j in the i-th document\n",
    "    weight = tfidf.toarray()\n",
    "\n",
    "    # 5\n",
    "    key_words_list = []\n",
    "    for (body, w) in zip(abstractList, weight):\n",
    "        loc = np.argsort(-w)\n",
    "        key_words =[]\n",
    "        for i in range(topK):\n",
    "            # Print the top k tokens according to the Tf-idf weights.\n",
    "#             print ('-{}: {} {}'.format(str(i + 1), words[loc[i]], w[loc[i]]))\n",
    "            key_words.append(words[loc[i]])\n",
    "#         print ('\\n')\n",
    "        key_words_list.append(key_words)\n",
    "    return key_words_list"
   ]
  },
  {
   "cell_type": "code",
   "execution_count": 6,
   "metadata": {},
   "outputs": [
    {
     "output_type": "stream",
     "name": "stderr",
     "text": "100%|██████████| 1683/1683 [00:32<00:00, 40.63it/s]\n"
    }
   ],
   "source": [
    "train_bodies['keywords'], vectorizer, tfidf_transformer = getKeywords_tfidf_train(train_bodies)"
   ]
  },
  {
   "cell_type": "code",
   "execution_count": 7,
   "metadata": {},
   "outputs": [
    {
     "output_type": "execute_result",
     "data": {
      "text/plain": "   Body ID                                        articleBody  \\\n0        0  A small meteorite crashed into a wooded area i...   \n1        4  Last week we hinted at what was to come as Ebo...   \n2        5  (NEWSER) – Wonder how long a Quarter Pounder w...   \n3        6  Posting photos of a gun-toting child online, I...   \n4        7  At least 25 suspected Boko Haram insurgents we...   \n\n                                            keywords  \n0  [meteorite, nicaragua, asteroid, crater, said,...  \n1  [daily caller, caller, passenger, suit, airpor...  \n2  [burger, australians, dean, mcdonald, charity,...  \n3  [isis, child, cooper, mr cooper, boy, got mart...  \n4  [damboa, boko haram, boko, haram, tada, tada s...  ",
      "text/html": "<div>\n<style scoped>\n    .dataframe tbody tr th:only-of-type {\n        vertical-align: middle;\n    }\n\n    .dataframe tbody tr th {\n        vertical-align: top;\n    }\n\n    .dataframe thead th {\n        text-align: right;\n    }\n</style>\n<table border=\"1\" class=\"dataframe\">\n  <thead>\n    <tr style=\"text-align: right;\">\n      <th></th>\n      <th>Body ID</th>\n      <th>articleBody</th>\n      <th>keywords</th>\n    </tr>\n  </thead>\n  <tbody>\n    <tr>\n      <th>0</th>\n      <td>0</td>\n      <td>A small meteorite crashed into a wooded area i...</td>\n      <td>[meteorite, nicaragua, asteroid, crater, said,...</td>\n    </tr>\n    <tr>\n      <th>1</th>\n      <td>4</td>\n      <td>Last week we hinted at what was to come as Ebo...</td>\n      <td>[daily caller, caller, passenger, suit, airpor...</td>\n    </tr>\n    <tr>\n      <th>2</th>\n      <td>5</td>\n      <td>(NEWSER) – Wonder how long a Quarter Pounder w...</td>\n      <td>[burger, australians, dean, mcdonald, charity,...</td>\n    </tr>\n    <tr>\n      <th>3</th>\n      <td>6</td>\n      <td>Posting photos of a gun-toting child online, I...</td>\n      <td>[isis, child, cooper, mr cooper, boy, got mart...</td>\n    </tr>\n    <tr>\n      <th>4</th>\n      <td>7</td>\n      <td>At least 25 suspected Boko Haram insurgents we...</td>\n      <td>[damboa, boko haram, boko, haram, tada, tada s...</td>\n    </tr>\n  </tbody>\n</table>\n</div>"
     },
     "metadata": {},
     "execution_count": 7
    }
   ],
   "source": [
    "train_bodies.head()"
   ]
  },
  {
   "cell_type": "code",
   "execution_count": 8,
   "metadata": {},
   "outputs": [
    {
     "output_type": "stream",
     "name": "stderr",
     "text": "100%|██████████| 904/904 [00:16<00:00, 53.28it/s]\n"
    }
   ],
   "source": [
    "competition_test_bodies['keywords'] = getKeywords_tfidf_test(competition_test_bodies, vectorizer, tfidf_transformer)"
   ]
  },
  {
   "cell_type": "code",
   "execution_count": 9,
   "metadata": {},
   "outputs": [
    {
     "output_type": "execute_result",
     "data": {
      "text/plain": "   Body ID                                        articleBody  \\\n0        1  Al-Sisi has denied Israeli reports stating tha...   \n1        2  A bereaved Afghan mother took revenge on the T...   \n2        3  CNBC is reporting Tesla has chosen Nevada as t...   \n3       12  A 4-inch version of the iPhone 6 is said to be...   \n4       19  GR editor’s Note\\n\\nThere are no reports in th...   \n\n                                            keywords  \n0  [sisi, al sisi, gaza strip, gaza, extend, stri...  \n1  [taliban, afghan, daughter, suicide bomber, ba...  \n2  [tesla, reno, nevada, musk, cnbc, chosen, cost...  \n3  [iphone, inch, entry level, entry, apple, new,...  \n4  [isil, coalition, us, iraqi, al, anbar, salahu...  ",
      "text/html": "<div>\n<style scoped>\n    .dataframe tbody tr th:only-of-type {\n        vertical-align: middle;\n    }\n\n    .dataframe tbody tr th {\n        vertical-align: top;\n    }\n\n    .dataframe thead th {\n        text-align: right;\n    }\n</style>\n<table border=\"1\" class=\"dataframe\">\n  <thead>\n    <tr style=\"text-align: right;\">\n      <th></th>\n      <th>Body ID</th>\n      <th>articleBody</th>\n      <th>keywords</th>\n    </tr>\n  </thead>\n  <tbody>\n    <tr>\n      <th>0</th>\n      <td>1</td>\n      <td>Al-Sisi has denied Israeli reports stating tha...</td>\n      <td>[sisi, al sisi, gaza strip, gaza, extend, stri...</td>\n    </tr>\n    <tr>\n      <th>1</th>\n      <td>2</td>\n      <td>A bereaved Afghan mother took revenge on the T...</td>\n      <td>[taliban, afghan, daughter, suicide bomber, ba...</td>\n    </tr>\n    <tr>\n      <th>2</th>\n      <td>3</td>\n      <td>CNBC is reporting Tesla has chosen Nevada as t...</td>\n      <td>[tesla, reno, nevada, musk, cnbc, chosen, cost...</td>\n    </tr>\n    <tr>\n      <th>3</th>\n      <td>12</td>\n      <td>A 4-inch version of the iPhone 6 is said to be...</td>\n      <td>[iphone, inch, entry level, entry, apple, new,...</td>\n    </tr>\n    <tr>\n      <th>4</th>\n      <td>19</td>\n      <td>GR editor’s Note\\n\\nThere are no reports in th...</td>\n      <td>[isil, coalition, us, iraqi, al, anbar, salahu...</td>\n    </tr>\n  </tbody>\n</table>\n</div>"
     },
     "metadata": {},
     "execution_count": 9
    }
   ],
   "source": [
    "competition_test_bodies.head()"
   ]
  },
  {
   "cell_type": "code",
   "execution_count": 10,
   "metadata": {},
   "outputs": [],
   "source": [
    "# Export data with extracted keywords\n",
    "train_bodies.to_csv('../features/train_bodies_topics.csv')\n",
    "competition_test_bodies.to_csv('../features/competition_test_bodies_topics.csv')"
   ]
  },
  {
   "cell_type": "code",
   "execution_count": 11,
   "metadata": {},
   "outputs": [
    {
     "output_type": "execute_result",
     "data": {
      "text/plain": "                                                  text_a  \\\n1      Hundreds of Palestinians flee floods in Gaza a...   \n5      'Nasa Confirms Earth Will Experience 6 Days of...   \n8      Banksy 'Arrested & Real Identity Revealed' Is ...   \n11     Woman detained in Lebanon is not al-Baghdadi's...   \n17     No, Robert Plant Didn’t Rip Up an $800 Million...   \n24     NET Extra: Back-from-the-dead Catholic priest ...   \n25     Rumor debunked: RoboCop-style robots are not p...   \n36     Fisherman lands 19 STONE catfish which could b...   \n46     Student accidentally sets college on fire duri...   \n55     Macaulay Culkin Hasn’t Died Despite What Every...   \n72     Indian civil servant sacked 'after 24-year sic...   \n80     Soldier, Gunman Killed In Shooting Incident Ne...   \n87     Mystery woman behind the 'richest hands on the...   \n105    New Audio Reveals Pause in Gunfire When Michae...   \n106    11 Tripoli Planes Still Missing, Sparks 9/11 C...   \n108    India Rape Crisis Sees Mob Castrate Alleged Se...   \n128           Met police denies reports of Banksy arrest   \n129    Video: Marine saved by helmet after Taliban sn...   \n163      Vogue’s Rat Infestation: Disturbing New Details   \n168    Video: Marine survives Taliban sniper headshot...   \n179    Lego letter to parents in 1974 on gender equal...   \n209    After Giving A Homeless Man $100, This Guy Sec...   \n218    British hostage David Haines beheaded by Islam...   \n223    Woman, Ting Su, Finds Husband Cheating With He...   \n243    Jeh Johnson: Politicians Shouldn't 'Feed The F...   \n258    #ISIS beheads photojournalist James Wright Fol...   \n300    Despite no Ebola case in Kansas City, the rumo...   \n319    Bugatti Veyron Vandalized With Penis Graffiti?...   \n328    Man who skipped work for 24 years is finally f...   \n331    Michael Phelps’ alleged girlfriend says she wa...   \n...                                                  ...   \n49551  Angry mob hacks off alleged rapist's genitals ...   \n49566                         KC Man Does Not Have Ebola   \n49626  Mexico Says Students Not Among Dead in Mass Grave   \n49627  Do all dogs go to heaven? Pope tells grieving ...   \n49634         Boko Haram Denies Nigeria Cease-Fire Claim   \n49644  Robert Plant ripped up $800M Led Zeppelin reun...   \n49647      ISIL Beheads American Photojournalist in Iraq   \n49651  Catholic Priest Dead For 48 Minutes, Is Miracu...   \n49657  Small Meteorite Strikes in Nicaragua's Capital...   \n49672          Wayward sister ‘nun the wiser’ about baby   \n49675  Missing jetliners raise fear of new 9/11-style...   \n49676  WHO says reports of suspected Ebola cases in I...   \n49679  Mexican students not among bodies found in mas...   \n49712  Now THAT'S a Royal trip! Alan Titchmarsh finds...   \n49723   Texas plumber's truck on front line of Syria war   \n49730  Pentagon: Airstrike killed terror leader in So...   \n49780  Hundreds of dog-lovers from around the world o...   \n49784  North Korea dictator Kim Jong-un undergoes sur...   \n49791  New Audio Shows Michael Brown Was Shot at 11 T...   \n49806    Somali terrorist leader dead after US airstrike   \n49819  Macaulay Culkin Dead: Actor Once Again Victim ...   \n49863  Seven girls fall pregnant after five day schoo...   \n49878  Weather Channel’s Mike Seidel was not caught w...   \n49883  Macaulay Culkin Dead? Another Death Hoax Circu...   \n49886  ISIS fighters seize weapons airdrop meant for ...   \n49887  Watch: US Marine saved by helmet after being s...   \n49920  Tropical spider burrows under man's skin throu...   \n49922                Tour, agent: Tiger Woods not banned   \n49925  Meteorite leaves crater in Nicaraguan capital ...   \n49969  Mexico Says Missing Students Not Found In Firs...   \n\n                                                  text_b  labels  Body ID  \n1      Hundreds of Palestinians were evacuated from t...       0      158  \n5      Thousands of people have been duped by a fake ...       0      154  \n8      If you’ve seen a story floating around on your...       0     1739  \n11     An Iraqi official denied that a woman detained...       0     1468  \n17     Led Zeppelin fans will be disappointed to lear...       0      295  \n24     A 71 years old cleric Father John Micheal O’ne...       0     1014  \n25     Knightscope co-founder Stacy Stephens said rum...       0      633  \n36     Dino Ferrari hooked the whopper wels catfish, ...       0     2161  \n46     He popped the question — and burned down his c...       0     1592  \n55     Claim: Actor Macaulay Culkin has died.\\n\\nFALS...       0      759  \n72     An Indian public official has been sacked for ...       0     2441  \n80     A gunman opened fire at Canada's National War ...       0     1089  \n87     The identity of the couple behind the mega-suc...       0     1315  \n105    Video messaging app Glide on Thursday said it ...       0     1818  \n106    Eleven planes missing from Tripoli Airport aft...       0     1958  \n108    An alleged attempted rapist in India received ...       0     2115  \n128    Let’s clear this one up quickly.\\n\\nA US websi...       0      949  \n129    The marine was shot during a mission in the da...       0      488  \n163    The rodents have pestered the staffs of Vanity...       0     2064  \n168    A video of a US marine surviving being shot in...       0     2046  \n179    A picture of a letter to parents from a box of...       0     1547  \n209    Awwwww!\\nThis is such a heartwarming story!\\nW...       0     2061  \n218    A \"propaganda video\" released by ISIS has set ...       0     2206  \n223    What do you do when your twin is having sex wi...       0     1058  \n243    Homeland Security Secretary Jeh Johnson says I...       0      666  \n258    In a video posted online Tuesday, ISIS beheads...       0     1580  \n300    A man rushed to a Kansas City-area hospital Sa...       0     1943  \n319    An image of a gold Bugatti Veyron graffitied w...       0     1148  \n328    An executive engineer at the Central Public Wo...       0     1951  \n331    A woman who claims to be the girlfriend of Oly...       0     1349  \n...                                                  ...     ...      ...  \n49551  A man had his penis cut off by an angry mob fo...       0     1959  \n49566  KANSAS CITY, MO (KCTV) -\\nA man rushed to a Ka...       0     2104  \n49626  None of the 28 bodies found in a mass grave in...       0     1427  \n49627  Pope Francis suggested recently that even anim...       0     2297  \n49634  By Isaac Abrak ABUJA, Nov 1 (Reuters) - A man ...       0     1821  \n49644  A Led Zeppelin reunion tour, backed by an asto...       0     1978  \n49647  In a video posted online Tuesday, ISIS beheads...       0     1580  \n49651  A Catholic priest from Massachusetts had been ...       0      244  \n49657  No one was hurt\\n\\nA small meteorite struck a ...       0     1731  \n49672  SAN SEVERINO - Go to the hospital accusing a t...       0     2492  \n49675  US officials say 11 commercial aircraft have g...       0      653  \n49676  The Islamic State (Isis) operating in Iraq doe...       0     2138  \n49679  None of the 28 bodies found in a mass grave in...       0     1427  \n49712  TV gardener Alan Titchmarsh was surprised to f...       0     1258  \n49723  A Texas plumber was left bewildered after a tr...       0     2015  \n49730  WASHINGTON -- The Pentagon says U.S. officials...       0     1423  \n49780  The Scottish Society for the Prevention of Cru...       0     1544  \n49784  North Korea leader Kim Jong-un is so fat from ...       0     1095  \n49791  Video messaging firm confirmed today the tape ...       0     2345  \n49806  WASHINGTON — The Pentagon on Friday confirmed ...       0     2374  \n49819  Macaulay Culkin is not dead, despite another f...       0     1559  \n49863  SEVEN girls, aged 13 to 15, have fallen pregna...       0     2248  \n49878  The Weather Channel’s Mike Seidel has taken a ...       0     1046  \n49883  A group, allegedly named RIP Macaulay Culkin, ...       0     1174  \n49886  Erdogan argued that the Turkish weapons drop h...       0     1363  \n49887  The importance of wearing a helmet when on the...       0     1734  \n49920  A trip to Bali has turned Dylan Thomas into a ...       0     1883  \n49922  PALM BEACH GARDENS, Fla. -- A journeyman profe...       0      757  \n49925  A blast near the Nicaraguan capital city of Ma...       0     1913  \n49969  The bodies found in a mass grave were confirme...       0     1156  \n\n[3678 rows x 4 columns]",
      "text/html": "<div>\n<style scoped>\n    .dataframe tbody tr th:only-of-type {\n        vertical-align: middle;\n    }\n\n    .dataframe tbody tr th {\n        vertical-align: top;\n    }\n\n    .dataframe thead th {\n        text-align: right;\n    }\n</style>\n<table border=\"1\" class=\"dataframe\">\n  <thead>\n    <tr style=\"text-align: right;\">\n      <th></th>\n      <th>text_a</th>\n      <th>text_b</th>\n      <th>labels</th>\n      <th>Body ID</th>\n    </tr>\n  </thead>\n  <tbody>\n    <tr>\n      <th>1</th>\n      <td>Hundreds of Palestinians flee floods in Gaza a...</td>\n      <td>Hundreds of Palestinians were evacuated from t...</td>\n      <td>0</td>\n      <td>158</td>\n    </tr>\n    <tr>\n      <th>5</th>\n      <td>'Nasa Confirms Earth Will Experience 6 Days of...</td>\n      <td>Thousands of people have been duped by a fake ...</td>\n      <td>0</td>\n      <td>154</td>\n    </tr>\n    <tr>\n      <th>8</th>\n      <td>Banksy 'Arrested &amp; Real Identity Revealed' Is ...</td>\n      <td>If you’ve seen a story floating around on your...</td>\n      <td>0</td>\n      <td>1739</td>\n    </tr>\n    <tr>\n      <th>11</th>\n      <td>Woman detained in Lebanon is not al-Baghdadi's...</td>\n      <td>An Iraqi official denied that a woman detained...</td>\n      <td>0</td>\n      <td>1468</td>\n    </tr>\n    <tr>\n      <th>17</th>\n      <td>No, Robert Plant Didn’t Rip Up an $800 Million...</td>\n      <td>Led Zeppelin fans will be disappointed to lear...</td>\n      <td>0</td>\n      <td>295</td>\n    </tr>\n    <tr>\n      <th>24</th>\n      <td>NET Extra: Back-from-the-dead Catholic priest ...</td>\n      <td>A 71 years old cleric Father John Micheal O’ne...</td>\n      <td>0</td>\n      <td>1014</td>\n    </tr>\n    <tr>\n      <th>25</th>\n      <td>Rumor debunked: RoboCop-style robots are not p...</td>\n      <td>Knightscope co-founder Stacy Stephens said rum...</td>\n      <td>0</td>\n      <td>633</td>\n    </tr>\n    <tr>\n      <th>36</th>\n      <td>Fisherman lands 19 STONE catfish which could b...</td>\n      <td>Dino Ferrari hooked the whopper wels catfish, ...</td>\n      <td>0</td>\n      <td>2161</td>\n    </tr>\n    <tr>\n      <th>46</th>\n      <td>Student accidentally sets college on fire duri...</td>\n      <td>He popped the question — and burned down his c...</td>\n      <td>0</td>\n      <td>1592</td>\n    </tr>\n    <tr>\n      <th>55</th>\n      <td>Macaulay Culkin Hasn’t Died Despite What Every...</td>\n      <td>Claim: Actor Macaulay Culkin has died.\\n\\nFALS...</td>\n      <td>0</td>\n      <td>759</td>\n    </tr>\n    <tr>\n      <th>72</th>\n      <td>Indian civil servant sacked 'after 24-year sic...</td>\n      <td>An Indian public official has been sacked for ...</td>\n      <td>0</td>\n      <td>2441</td>\n    </tr>\n    <tr>\n      <th>80</th>\n      <td>Soldier, Gunman Killed In Shooting Incident Ne...</td>\n      <td>A gunman opened fire at Canada's National War ...</td>\n      <td>0</td>\n      <td>1089</td>\n    </tr>\n    <tr>\n      <th>87</th>\n      <td>Mystery woman behind the 'richest hands on the...</td>\n      <td>The identity of the couple behind the mega-suc...</td>\n      <td>0</td>\n      <td>1315</td>\n    </tr>\n    <tr>\n      <th>105</th>\n      <td>New Audio Reveals Pause in Gunfire When Michae...</td>\n      <td>Video messaging app Glide on Thursday said it ...</td>\n      <td>0</td>\n      <td>1818</td>\n    </tr>\n    <tr>\n      <th>106</th>\n      <td>11 Tripoli Planes Still Missing, Sparks 9/11 C...</td>\n      <td>Eleven planes missing from Tripoli Airport aft...</td>\n      <td>0</td>\n      <td>1958</td>\n    </tr>\n    <tr>\n      <th>108</th>\n      <td>India Rape Crisis Sees Mob Castrate Alleged Se...</td>\n      <td>An alleged attempted rapist in India received ...</td>\n      <td>0</td>\n      <td>2115</td>\n    </tr>\n    <tr>\n      <th>128</th>\n      <td>Met police denies reports of Banksy arrest</td>\n      <td>Let’s clear this one up quickly.\\n\\nA US websi...</td>\n      <td>0</td>\n      <td>949</td>\n    </tr>\n    <tr>\n      <th>129</th>\n      <td>Video: Marine saved by helmet after Taliban sn...</td>\n      <td>The marine was shot during a mission in the da...</td>\n      <td>0</td>\n      <td>488</td>\n    </tr>\n    <tr>\n      <th>163</th>\n      <td>Vogue’s Rat Infestation: Disturbing New Details</td>\n      <td>The rodents have pestered the staffs of Vanity...</td>\n      <td>0</td>\n      <td>2064</td>\n    </tr>\n    <tr>\n      <th>168</th>\n      <td>Video: Marine survives Taliban sniper headshot...</td>\n      <td>A video of a US marine surviving being shot in...</td>\n      <td>0</td>\n      <td>2046</td>\n    </tr>\n    <tr>\n      <th>179</th>\n      <td>Lego letter to parents in 1974 on gender equal...</td>\n      <td>A picture of a letter to parents from a box of...</td>\n      <td>0</td>\n      <td>1547</td>\n    </tr>\n    <tr>\n      <th>209</th>\n      <td>After Giving A Homeless Man $100, This Guy Sec...</td>\n      <td>Awwwww!\\nThis is such a heartwarming story!\\nW...</td>\n      <td>0</td>\n      <td>2061</td>\n    </tr>\n    <tr>\n      <th>218</th>\n      <td>British hostage David Haines beheaded by Islam...</td>\n      <td>A \"propaganda video\" released by ISIS has set ...</td>\n      <td>0</td>\n      <td>2206</td>\n    </tr>\n    <tr>\n      <th>223</th>\n      <td>Woman, Ting Su, Finds Husband Cheating With He...</td>\n      <td>What do you do when your twin is having sex wi...</td>\n      <td>0</td>\n      <td>1058</td>\n    </tr>\n    <tr>\n      <th>243</th>\n      <td>Jeh Johnson: Politicians Shouldn't 'Feed The F...</td>\n      <td>Homeland Security Secretary Jeh Johnson says I...</td>\n      <td>0</td>\n      <td>666</td>\n    </tr>\n    <tr>\n      <th>258</th>\n      <td>#ISIS beheads photojournalist James Wright Fol...</td>\n      <td>In a video posted online Tuesday, ISIS beheads...</td>\n      <td>0</td>\n      <td>1580</td>\n    </tr>\n    <tr>\n      <th>300</th>\n      <td>Despite no Ebola case in Kansas City, the rumo...</td>\n      <td>A man rushed to a Kansas City-area hospital Sa...</td>\n      <td>0</td>\n      <td>1943</td>\n    </tr>\n    <tr>\n      <th>319</th>\n      <td>Bugatti Veyron Vandalized With Penis Graffiti?...</td>\n      <td>An image of a gold Bugatti Veyron graffitied w...</td>\n      <td>0</td>\n      <td>1148</td>\n    </tr>\n    <tr>\n      <th>328</th>\n      <td>Man who skipped work for 24 years is finally f...</td>\n      <td>An executive engineer at the Central Public Wo...</td>\n      <td>0</td>\n      <td>1951</td>\n    </tr>\n    <tr>\n      <th>331</th>\n      <td>Michael Phelps’ alleged girlfriend says she wa...</td>\n      <td>A woman who claims to be the girlfriend of Oly...</td>\n      <td>0</td>\n      <td>1349</td>\n    </tr>\n    <tr>\n      <th>...</th>\n      <td>...</td>\n      <td>...</td>\n      <td>...</td>\n      <td>...</td>\n    </tr>\n    <tr>\n      <th>49551</th>\n      <td>Angry mob hacks off alleged rapist's genitals ...</td>\n      <td>A man had his penis cut off by an angry mob fo...</td>\n      <td>0</td>\n      <td>1959</td>\n    </tr>\n    <tr>\n      <th>49566</th>\n      <td>KC Man Does Not Have Ebola</td>\n      <td>KANSAS CITY, MO (KCTV) -\\nA man rushed to a Ka...</td>\n      <td>0</td>\n      <td>2104</td>\n    </tr>\n    <tr>\n      <th>49626</th>\n      <td>Mexico Says Students Not Among Dead in Mass Grave</td>\n      <td>None of the 28 bodies found in a mass grave in...</td>\n      <td>0</td>\n      <td>1427</td>\n    </tr>\n    <tr>\n      <th>49627</th>\n      <td>Do all dogs go to heaven? Pope tells grieving ...</td>\n      <td>Pope Francis suggested recently that even anim...</td>\n      <td>0</td>\n      <td>2297</td>\n    </tr>\n    <tr>\n      <th>49634</th>\n      <td>Boko Haram Denies Nigeria Cease-Fire Claim</td>\n      <td>By Isaac Abrak ABUJA, Nov 1 (Reuters) - A man ...</td>\n      <td>0</td>\n      <td>1821</td>\n    </tr>\n    <tr>\n      <th>49644</th>\n      <td>Robert Plant ripped up $800M Led Zeppelin reun...</td>\n      <td>A Led Zeppelin reunion tour, backed by an asto...</td>\n      <td>0</td>\n      <td>1978</td>\n    </tr>\n    <tr>\n      <th>49647</th>\n      <td>ISIL Beheads American Photojournalist in Iraq</td>\n      <td>In a video posted online Tuesday, ISIS beheads...</td>\n      <td>0</td>\n      <td>1580</td>\n    </tr>\n    <tr>\n      <th>49651</th>\n      <td>Catholic Priest Dead For 48 Minutes, Is Miracu...</td>\n      <td>A Catholic priest from Massachusetts had been ...</td>\n      <td>0</td>\n      <td>244</td>\n    </tr>\n    <tr>\n      <th>49657</th>\n      <td>Small Meteorite Strikes in Nicaragua's Capital...</td>\n      <td>No one was hurt\\n\\nA small meteorite struck a ...</td>\n      <td>0</td>\n      <td>1731</td>\n    </tr>\n    <tr>\n      <th>49672</th>\n      <td>Wayward sister ‘nun the wiser’ about baby</td>\n      <td>SAN SEVERINO - Go to the hospital accusing a t...</td>\n      <td>0</td>\n      <td>2492</td>\n    </tr>\n    <tr>\n      <th>49675</th>\n      <td>Missing jetliners raise fear of new 9/11-style...</td>\n      <td>US officials say 11 commercial aircraft have g...</td>\n      <td>0</td>\n      <td>653</td>\n    </tr>\n    <tr>\n      <th>49676</th>\n      <td>WHO says reports of suspected Ebola cases in I...</td>\n      <td>The Islamic State (Isis) operating in Iraq doe...</td>\n      <td>0</td>\n      <td>2138</td>\n    </tr>\n    <tr>\n      <th>49679</th>\n      <td>Mexican students not among bodies found in mas...</td>\n      <td>None of the 28 bodies found in a mass grave in...</td>\n      <td>0</td>\n      <td>1427</td>\n    </tr>\n    <tr>\n      <th>49712</th>\n      <td>Now THAT'S a Royal trip! Alan Titchmarsh finds...</td>\n      <td>TV gardener Alan Titchmarsh was surprised to f...</td>\n      <td>0</td>\n      <td>1258</td>\n    </tr>\n    <tr>\n      <th>49723</th>\n      <td>Texas plumber's truck on front line of Syria war</td>\n      <td>A Texas plumber was left bewildered after a tr...</td>\n      <td>0</td>\n      <td>2015</td>\n    </tr>\n    <tr>\n      <th>49730</th>\n      <td>Pentagon: Airstrike killed terror leader in So...</td>\n      <td>WASHINGTON -- The Pentagon says U.S. officials...</td>\n      <td>0</td>\n      <td>1423</td>\n    </tr>\n    <tr>\n      <th>49780</th>\n      <td>Hundreds of dog-lovers from around the world o...</td>\n      <td>The Scottish Society for the Prevention of Cru...</td>\n      <td>0</td>\n      <td>1544</td>\n    </tr>\n    <tr>\n      <th>49784</th>\n      <td>North Korea dictator Kim Jong-un undergoes sur...</td>\n      <td>North Korea leader Kim Jong-un is so fat from ...</td>\n      <td>0</td>\n      <td>1095</td>\n    </tr>\n    <tr>\n      <th>49791</th>\n      <td>New Audio Shows Michael Brown Was Shot at 11 T...</td>\n      <td>Video messaging firm confirmed today the tape ...</td>\n      <td>0</td>\n      <td>2345</td>\n    </tr>\n    <tr>\n      <th>49806</th>\n      <td>Somali terrorist leader dead after US airstrike</td>\n      <td>WASHINGTON — The Pentagon on Friday confirmed ...</td>\n      <td>0</td>\n      <td>2374</td>\n    </tr>\n    <tr>\n      <th>49819</th>\n      <td>Macaulay Culkin Dead: Actor Once Again Victim ...</td>\n      <td>Macaulay Culkin is not dead, despite another f...</td>\n      <td>0</td>\n      <td>1559</td>\n    </tr>\n    <tr>\n      <th>49863</th>\n      <td>Seven girls fall pregnant after five day schoo...</td>\n      <td>SEVEN girls, aged 13 to 15, have fallen pregna...</td>\n      <td>0</td>\n      <td>2248</td>\n    </tr>\n    <tr>\n      <th>49878</th>\n      <td>Weather Channel’s Mike Seidel was not caught w...</td>\n      <td>The Weather Channel’s Mike Seidel has taken a ...</td>\n      <td>0</td>\n      <td>1046</td>\n    </tr>\n    <tr>\n      <th>49883</th>\n      <td>Macaulay Culkin Dead? Another Death Hoax Circu...</td>\n      <td>A group, allegedly named RIP Macaulay Culkin, ...</td>\n      <td>0</td>\n      <td>1174</td>\n    </tr>\n    <tr>\n      <th>49886</th>\n      <td>ISIS fighters seize weapons airdrop meant for ...</td>\n      <td>Erdogan argued that the Turkish weapons drop h...</td>\n      <td>0</td>\n      <td>1363</td>\n    </tr>\n    <tr>\n      <th>49887</th>\n      <td>Watch: US Marine saved by helmet after being s...</td>\n      <td>The importance of wearing a helmet when on the...</td>\n      <td>0</td>\n      <td>1734</td>\n    </tr>\n    <tr>\n      <th>49920</th>\n      <td>Tropical spider burrows under man's skin throu...</td>\n      <td>A trip to Bali has turned Dylan Thomas into a ...</td>\n      <td>0</td>\n      <td>1883</td>\n    </tr>\n    <tr>\n      <th>49922</th>\n      <td>Tour, agent: Tiger Woods not banned</td>\n      <td>PALM BEACH GARDENS, Fla. -- A journeyman profe...</td>\n      <td>0</td>\n      <td>757</td>\n    </tr>\n    <tr>\n      <th>49925</th>\n      <td>Meteorite leaves crater in Nicaraguan capital ...</td>\n      <td>A blast near the Nicaraguan capital city of Ma...</td>\n      <td>0</td>\n      <td>1913</td>\n    </tr>\n    <tr>\n      <th>49969</th>\n      <td>Mexico Says Missing Students Not Found In Firs...</td>\n      <td>The bodies found in a mass grave were confirme...</td>\n      <td>0</td>\n      <td>1156</td>\n    </tr>\n  </tbody>\n</table>\n<p>3678 rows × 4 columns</p>\n</div>"
     },
     "metadata": {},
     "execution_count": 11
    }
   ],
   "source": [
    "training_set[training_set['labels'] ==0 ]"
   ]
  },
  {
   "cell_type": "code",
   "execution_count": 12,
   "metadata": {},
   "outputs": [],
   "source": [
    "def ngrams_1_2(input, n=2):\n",
    "    input = input.lower().split(' ')\n",
    "    output = []\n",
    "    for i in range(len(input) - n + 1):\n",
    "        output.append(' '.join(input[i:i + n]))\n",
    "    output += input\n",
    "    return output"
   ]
  },
  {
   "cell_type": "code",
   "execution_count": 13,
   "metadata": {},
   "outputs": [],
   "source": [
    "# Extract keywords features from the headlines\n",
    "# Feature 1: 1 if we can see any one of the keywords of the body and 0 others\n",
    "# Feature 2: The percent of ngrams, unigrams of the headlines that are in the keywords of the body\n",
    "def getKeywordsFeature(training_set):\n",
    "    keywords_hit = []\n",
    "    keywords_hit_ratio = []\n",
    "    for index in range(len(training_set)):\n",
    "        h = training_set.loc[index, 'text_a']\n",
    "        Body_ID = training_set.loc[index, 'Body ID']\n",
    "        keywords_0 = list(train_bodies[train_bodies['Body ID']==Body_ID]['keywords'])[0]\n",
    "        h_ngrams = ngrams_1_2(h, 2)\n",
    "        count = 0\n",
    "        for two_gram in h_ngrams:\n",
    "            if two_gram in keywords_0:\n",
    "                count += 1\n",
    "        ratio = count / len(h_ngrams)\n",
    "        if ratio > 0:\n",
    "            keywords_hit.append(1)\n",
    "        else:\n",
    "            keywords_hit.append(0)\n",
    "        keywords_hit_ratio.append(ratio)\n",
    "    training_set['keywords_hit'] = keywords_hit\n",
    "    training_set['keywords_hit_ratio'] = keywords_hit_ratio\n",
    "    return training_set\n",
    "training_set = getKeywordsFeature(training_set)"
   ]
  },
  {
   "cell_type": "code",
   "execution_count": 14,
   "metadata": {},
   "outputs": [
    {
     "output_type": "execute_result",
     "data": {
      "text/plain": "                                               text_a  \\\n0   Police find mass graves with at least '15 bodi...   \n1   Hundreds of Palestinians flee floods in Gaza a...   \n2   Christian Bale passes on role of Steve Jobs, a...   \n3   HBO and Apple in Talks for $15/Month Apple TV ...   \n4   Spider burrowed through tourist's stomach and ...   \n5   'Nasa Confirms Earth Will Experience 6 Days of...   \n6   Accused Boston Marathon Bomber Severely Injure...   \n7   Identity of ISIS terrorist known as 'Jihadi Jo...   \n8   Banksy 'Arrested & Real Identity Revealed' Is ...   \n9       British Aid Worker Confirmed Murdered By ISIS   \n10                                     Gateway Pundit   \n11  Woman detained in Lebanon is not al-Baghdadi's...   \n12  Kidnapped Nigerian schoolgirls: Government cla...   \n13  No, that high school kid didn't make $72 milli...   \n14  Soon Marijuana May Lead to Ticket, Not Arrest,...   \n15  Vandals add rude paint job to $2.5m Bugatti (b...   \n16         Boko Haram Denies Nigeria Cease-Fire Claim   \n17  No, Robert Plant Didn’t Rip Up an $800 Million...   \n18       N. Korea’s Kim has leg injury but in control   \n19      ISIL Beheads American Photojournalist in Iraq   \n\n                                               text_b  labels  Body ID  \\\n0   Danny Boyle is directing the untitled film\\n\\n...       3      712   \n1   Hundreds of Palestinians were evacuated from t...       0      158   \n2   30-year-old Moscow resident was hospitalized w...       3      137   \n3   (Reuters) - A Canadian soldier was shot at the...       3     1034   \n4   Fear not arachnophobes, the story of Bunbury's...       1     1923   \n5   Thousands of people have been duped by a fake ...       0      154   \n6   A British fighter who travelled to Iraq to sto...       3      962   \n7   Adding to Apple's iOS 8 launch troubles, a rep...       3     2033   \n8   If you’ve seen a story floating around on your...       0     1739   \n9   The British Islamic State militant who has fea...       3      882   \n10  A British rapper whose father is awaiting tria...       2     2327   \n11  An Iraqi official denied that a woman detained...       0     1468   \n12  No one has died more times than Fidel Castro.\\...       3     1003   \n13  The video was one of those viral sensations th...       3     2132   \n14  After campaigning on a promise to reform stop-...       2       47   \n15  \"Eh-oh!\" A 19-year-old student is claiming tha...       3      615   \n16  ABUJA, Nigeria — The leader of Nigeria's Islam...       2     2463   \n17  Led Zeppelin fans will be disappointed to lear...       0      295   \n18  You want a gold Apple Watch, you say? Then it'...       3      570   \n19  James Foley, an American journalist who went m...       2      608   \n\n    keywords_hit  keywords_hit_ratio  \n0              0            0.000000  \n1              1            0.095238  \n2              0            0.000000  \n3              0            0.000000  \n4              1            0.052632  \n5              1            0.333333  \n6              0            0.000000  \n7              0            0.000000  \n8              1            0.080000  \n9              1            0.307692  \n10             0            0.000000  \n11             1            0.105263  \n12             0            0.000000  \n13             0            0.000000  \n14             1            0.047619  \n15             0            0.000000  \n16             1            0.363636  \n17             1            0.105263  \n18             0            0.000000  \n19             0            0.000000  ",
      "text/html": "<div>\n<style scoped>\n    .dataframe tbody tr th:only-of-type {\n        vertical-align: middle;\n    }\n\n    .dataframe tbody tr th {\n        vertical-align: top;\n    }\n\n    .dataframe thead th {\n        text-align: right;\n    }\n</style>\n<table border=\"1\" class=\"dataframe\">\n  <thead>\n    <tr style=\"text-align: right;\">\n      <th></th>\n      <th>text_a</th>\n      <th>text_b</th>\n      <th>labels</th>\n      <th>Body ID</th>\n      <th>keywords_hit</th>\n      <th>keywords_hit_ratio</th>\n    </tr>\n  </thead>\n  <tbody>\n    <tr>\n      <th>0</th>\n      <td>Police find mass graves with at least '15 bodi...</td>\n      <td>Danny Boyle is directing the untitled film\\n\\n...</td>\n      <td>3</td>\n      <td>712</td>\n      <td>0</td>\n      <td>0.000000</td>\n    </tr>\n    <tr>\n      <th>1</th>\n      <td>Hundreds of Palestinians flee floods in Gaza a...</td>\n      <td>Hundreds of Palestinians were evacuated from t...</td>\n      <td>0</td>\n      <td>158</td>\n      <td>1</td>\n      <td>0.095238</td>\n    </tr>\n    <tr>\n      <th>2</th>\n      <td>Christian Bale passes on role of Steve Jobs, a...</td>\n      <td>30-year-old Moscow resident was hospitalized w...</td>\n      <td>3</td>\n      <td>137</td>\n      <td>0</td>\n      <td>0.000000</td>\n    </tr>\n    <tr>\n      <th>3</th>\n      <td>HBO and Apple in Talks for $15/Month Apple TV ...</td>\n      <td>(Reuters) - A Canadian soldier was shot at the...</td>\n      <td>3</td>\n      <td>1034</td>\n      <td>0</td>\n      <td>0.000000</td>\n    </tr>\n    <tr>\n      <th>4</th>\n      <td>Spider burrowed through tourist's stomach and ...</td>\n      <td>Fear not arachnophobes, the story of Bunbury's...</td>\n      <td>1</td>\n      <td>1923</td>\n      <td>1</td>\n      <td>0.052632</td>\n    </tr>\n    <tr>\n      <th>5</th>\n      <td>'Nasa Confirms Earth Will Experience 6 Days of...</td>\n      <td>Thousands of people have been duped by a fake ...</td>\n      <td>0</td>\n      <td>154</td>\n      <td>1</td>\n      <td>0.333333</td>\n    </tr>\n    <tr>\n      <th>6</th>\n      <td>Accused Boston Marathon Bomber Severely Injure...</td>\n      <td>A British fighter who travelled to Iraq to sto...</td>\n      <td>3</td>\n      <td>962</td>\n      <td>0</td>\n      <td>0.000000</td>\n    </tr>\n    <tr>\n      <th>7</th>\n      <td>Identity of ISIS terrorist known as 'Jihadi Jo...</td>\n      <td>Adding to Apple's iOS 8 launch troubles, a rep...</td>\n      <td>3</td>\n      <td>2033</td>\n      <td>0</td>\n      <td>0.000000</td>\n    </tr>\n    <tr>\n      <th>8</th>\n      <td>Banksy 'Arrested &amp; Real Identity Revealed' Is ...</td>\n      <td>If you’ve seen a story floating around on your...</td>\n      <td>0</td>\n      <td>1739</td>\n      <td>1</td>\n      <td>0.080000</td>\n    </tr>\n    <tr>\n      <th>9</th>\n      <td>British Aid Worker Confirmed Murdered By ISIS</td>\n      <td>The British Islamic State militant who has fea...</td>\n      <td>3</td>\n      <td>882</td>\n      <td>1</td>\n      <td>0.307692</td>\n    </tr>\n    <tr>\n      <th>10</th>\n      <td>Gateway Pundit</td>\n      <td>A British rapper whose father is awaiting tria...</td>\n      <td>2</td>\n      <td>2327</td>\n      <td>0</td>\n      <td>0.000000</td>\n    </tr>\n    <tr>\n      <th>11</th>\n      <td>Woman detained in Lebanon is not al-Baghdadi's...</td>\n      <td>An Iraqi official denied that a woman detained...</td>\n      <td>0</td>\n      <td>1468</td>\n      <td>1</td>\n      <td>0.105263</td>\n    </tr>\n    <tr>\n      <th>12</th>\n      <td>Kidnapped Nigerian schoolgirls: Government cla...</td>\n      <td>No one has died more times than Fidel Castro.\\...</td>\n      <td>3</td>\n      <td>1003</td>\n      <td>0</td>\n      <td>0.000000</td>\n    </tr>\n    <tr>\n      <th>13</th>\n      <td>No, that high school kid didn't make $72 milli...</td>\n      <td>The video was one of those viral sensations th...</td>\n      <td>3</td>\n      <td>2132</td>\n      <td>0</td>\n      <td>0.000000</td>\n    </tr>\n    <tr>\n      <th>14</th>\n      <td>Soon Marijuana May Lead to Ticket, Not Arrest,...</td>\n      <td>After campaigning on a promise to reform stop-...</td>\n      <td>2</td>\n      <td>47</td>\n      <td>1</td>\n      <td>0.047619</td>\n    </tr>\n    <tr>\n      <th>15</th>\n      <td>Vandals add rude paint job to $2.5m Bugatti (b...</td>\n      <td>\"Eh-oh!\" A 19-year-old student is claiming tha...</td>\n      <td>3</td>\n      <td>615</td>\n      <td>0</td>\n      <td>0.000000</td>\n    </tr>\n    <tr>\n      <th>16</th>\n      <td>Boko Haram Denies Nigeria Cease-Fire Claim</td>\n      <td>ABUJA, Nigeria — The leader of Nigeria's Islam...</td>\n      <td>2</td>\n      <td>2463</td>\n      <td>1</td>\n      <td>0.363636</td>\n    </tr>\n    <tr>\n      <th>17</th>\n      <td>No, Robert Plant Didn’t Rip Up an $800 Million...</td>\n      <td>Led Zeppelin fans will be disappointed to lear...</td>\n      <td>0</td>\n      <td>295</td>\n      <td>1</td>\n      <td>0.105263</td>\n    </tr>\n    <tr>\n      <th>18</th>\n      <td>N. Korea’s Kim has leg injury but in control</td>\n      <td>You want a gold Apple Watch, you say? Then it'...</td>\n      <td>3</td>\n      <td>570</td>\n      <td>0</td>\n      <td>0.000000</td>\n    </tr>\n    <tr>\n      <th>19</th>\n      <td>ISIL Beheads American Photojournalist in Iraq</td>\n      <td>James Foley, an American journalist who went m...</td>\n      <td>2</td>\n      <td>608</td>\n      <td>0</td>\n      <td>0.000000</td>\n    </tr>\n  </tbody>\n</table>\n</div>"
     },
     "metadata": {},
     "execution_count": 14
    }
   ],
   "source": [
    "training_set.head(20)"
   ]
  },
  {
   "cell_type": "code",
   "execution_count": null,
   "metadata": {},
   "outputs": [],
   "source": []
  }
 ],
 "metadata": {
  "kernelspec": {
   "display_name": "Python 3.7.6 64-bit",
   "language": "python",
   "name": "python37664bit3aa868e9e4de4b8a9cb8e8f5e2c974a9"
  },
  "language_info": {
   "codemirror_mode": {
    "name": "ipython",
    "version": 3
   },
   "file_extension": ".py",
   "mimetype": "text/x-python",
   "name": "python",
   "nbconvert_exporter": "python",
   "pygments_lexer": "ipython3",
   "version": "3.7.6-final"
  }
 },
 "nbformat": 4,
 "nbformat_minor": 2
}